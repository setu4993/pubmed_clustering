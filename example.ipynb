{
 "cells": [
  {
   "cell_type": "markdown",
   "metadata": {},
   "source": [
    "### Example of PubMed Clustering"
   ]
  },
  {
   "cell_type": "markdown",
   "metadata": {},
   "source": [
    "This notebook shows an example of using this project."
   ]
  },
  {
   "cell_type": "markdown",
   "metadata": {},
   "source": [
    "*Step 1:* Imports."
   ]
  },
  {
   "cell_type": "code",
   "execution_count": 1,
   "metadata": {},
   "outputs": [],
   "source": [
    "import os\n",
    "from pubmed_clustering import PubMedClustering"
   ]
  },
  {
   "cell_type": "markdown",
   "metadata": {},
   "source": [
    "*Step 2:* Logging."
   ]
  },
  {
   "cell_type": "code",
   "execution_count": 2,
   "metadata": {},
   "outputs": [],
   "source": [
    "import logging\n",
    "\n",
    "logger = logging.basicConfig(level=logging.DEBUG, format='%(asctime)s %(levelname)-5s %(message)s')"
   ]
  },
  {
   "cell_type": "markdown",
   "metadata": {},
   "source": [
    "*Step 3:* Initializing the class.\n",
    "\n",
    "Parameters:\n",
    "- `pubmed_ids` (required): This parameter contains either a list of PMID strings, a string containing comma-separated PMIDs or the disk location to a text file containing a list of PMIDs. If it is a disk location, ensure the `is_file` flag is set to `True`.\n",
    "- `is_file` (optional): Boolean flag to specify if `pubmed_ids` is a text file that should be read. Default: `False`.\n",
    "- `metamap` (optional): Location of MetaMap binary. Without MetaMap, the pre-processing will not run and the program will terminate. Default: `/opt/public_mm/bin/metamap16`.\n",
    "- `email` (optional): Email ID. Required to query PubMed using the BioPython library. Default: `\"Your.Name.Here@example.org\"`.\n",
    "- `labels` (optional): Either a dictionary containing PMID -> cluster pairs or a location to a text file that of the form `PMID\\tlabel`. If it is a text file, ensure the flag `labels_is_file` is set to `True`. Default: `None`.\n",
    "- `labels_is_file` (optional): Boolean flag to specify if `pubmed_ids` is a text file that should be read. Default: `False`."
   ]
  },
  {
   "cell_type": "code",
   "execution_count": 3,
   "metadata": {},
   "outputs": [],
   "source": [
    "clus1 = PubMedClustering(os.path.join('./data', 'pmids_gold_set_unlabeled.txt'),\n",
    "                            metamap='/opt/public_mm/bin/metamap16', email=\"This.Is.My@Email.org\", is_file=True,\n",
    "                            labels=os.path.join('./data', 'pmids_gold_set_labeled.txt'), labels_is_file=True)"
   ]
  },
  {
   "cell_type": "markdown",
   "metadata": {},
   "source": [
    "*Step 4:* Running the pipeline."
   ]
  },
  {
   "cell_type": "code",
   "execution_count": null,
   "metadata": {},
   "outputs": [
    {
     "name": "stderr",
     "output_type": "stream",
     "text": [
      "2018-11-28 12:31:00,374 INFO  Fetching articles and abstracts from PubMed\n",
      "2018-11-28 12:31:01,899 INFO  Parsing fetched PubMed articles\n",
      "2018-11-28 12:31:02,288 INFO  Parsed all PubMed articles\n",
      "2018-11-28 12:31:02,289 INFO  Processing all documents with MetaMap\n",
      "2018-11-28 12:31:02,289 INFO  0 of 69 documents processed with MetaMap\n",
      "2018-11-28 12:31:19,270 INFO  10 of 69 documents processed with MetaMap\n",
      "2018-11-28 12:31:35,258 INFO  20 of 69 documents processed with MetaMap\n",
      "2018-11-28 12:31:53,245 INFO  30 of 69 documents processed with MetaMap\n",
      "2018-11-28 12:32:13,376 INFO  40 of 69 documents processed with MetaMap\n"
     ]
    }
   ],
   "source": [
    "clus1.run()"
   ]
  },
  {
   "cell_type": "markdown",
   "metadata": {},
   "source": [
    "*Step 5:* Observing results."
   ]
  },
  {
   "cell_type": "code",
   "execution_count": null,
   "metadata": {
    "scrolled": true
   },
   "outputs": [],
   "source": [
    "for document in clus1.documents:\n",
    "    print('PMID:', document['pmid'])\n",
    "    print('Document text:', document['all_text'].strip()) \n",
    "    print('Cluster:', clus1.clustering_results_dict[document['pmid']])"
   ]
  },
  {
   "cell_type": "code",
   "execution_count": null,
   "metadata": {},
   "outputs": [],
   "source": [
    "clus1.precision"
   ]
  },
  {
   "cell_type": "code",
   "execution_count": null,
   "metadata": {},
   "outputs": [],
   "source": [
    "clus1.recall"
   ]
  },
  {
   "cell_type": "code",
   "execution_count": null,
   "metadata": {},
   "outputs": [],
   "source": [
    "clus1.f_measure"
   ]
  },
  {
   "cell_type": "code",
   "execution_count": null,
   "metadata": {},
   "outputs": [],
   "source": [
    "clus1.purity"
   ]
  },
  {
   "cell_type": "markdown",
   "metadata": {},
   "source": [
    "If running without labels:"
   ]
  },
  {
   "cell_type": "code",
   "execution_count": null,
   "metadata": {},
   "outputs": [],
   "source": [
    "clus2 = PubMedClustering(os.path.join('./data', 'pmids_test_set_unlabeled.txt'),\n",
    "                            metamap='/opt/public_mm/bin/metamap16', email=\"This.Is.My@Email.org\", is_file=True)"
   ]
  },
  {
   "cell_type": "code",
   "execution_count": null,
   "metadata": {},
   "outputs": [],
   "source": [
    "clus2.run()"
   ]
  },
  {
   "cell_type": "code",
   "execution_count": null,
   "metadata": {},
   "outputs": [],
   "source": [
    "for document in clus1.documents:\n",
    "    print('PMID:', document['pmid'])\n",
    "    print('Document text:', document['all_text'].strip()) \n",
    "    print('Cluster:', clus1.clustering_results_dict[document['pmid']])"
   ]
  },
  {
   "cell_type": "code",
   "execution_count": null,
   "metadata": {},
   "outputs": [],
   "source": []
  }
 ],
 "metadata": {
  "kernelspec": {
   "display_name": "Python 3",
   "language": "python",
   "name": "python3"
  },
  "language_info": {
   "codemirror_mode": {
    "name": "ipython",
    "version": 3
   },
   "file_extension": ".py",
   "mimetype": "text/x-python",
   "name": "python",
   "nbconvert_exporter": "python",
   "pygments_lexer": "ipython3",
   "version": "3.6.6"
  }
 },
 "nbformat": 4,
 "nbformat_minor": 2
}
