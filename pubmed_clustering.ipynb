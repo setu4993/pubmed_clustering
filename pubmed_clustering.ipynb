{
 "cells": [
  {
   "cell_type": "code",
   "execution_count": 1,
   "metadata": {},
   "outputs": [],
   "source": [
    "import Bio\n",
    "import os"
   ]
  },
  {
   "cell_type": "code",
   "execution_count": 2,
   "metadata": {},
   "outputs": [],
   "source": [
    "from Bio import Entrez\n",
    "from bs4 import BeautifulSoup"
   ]
  },
  {
   "cell_type": "code",
   "execution_count": 3,
   "metadata": {
    "scrolled": true
   },
   "outputs": [],
   "source": [
    "def fetch_pubmed_abstracts(pmids):\n",
    "    Entrez.email = \"Your.Name.Here@example.org\"\n",
    "    handle = Entrez.efetch(db=\"pubmed\", id=pmids, rettype=\"abstract\")\n",
    "    return handle.read()"
   ]
  },
  {
   "cell_type": "code",
   "execution_count": 40,
   "metadata": {},
   "outputs": [],
   "source": [
    "data = './data'\n",
    "gold_set_unlabelled = os.path.join(data, 'pmids_test_set_unlabeled.txt')"
   ]
  },
  {
   "cell_type": "code",
   "execution_count": 41,
   "metadata": {},
   "outputs": [],
   "source": [
    "lines = open(gold_set_unlabelled, 'r').readlines()"
   ]
  },
  {
   "cell_type": "code",
   "execution_count": 42,
   "metadata": {},
   "outputs": [],
   "source": [
    "pmids = \",\".join([line.strip() for line in lines])"
   ]
  },
  {
   "cell_type": "code",
   "execution_count": 43,
   "metadata": {},
   "outputs": [],
   "source": [
    "# pmids = '28618929'\n",
    "output = fetch_pubmed_abstracts(pmids)"
   ]
  },
  {
   "cell_type": "code",
   "execution_count": 44,
   "metadata": {},
   "outputs": [],
   "source": [
    "soup = BeautifulSoup(output, 'xml')"
   ]
  },
  {
   "cell_type": "code",
   "execution_count": 45,
   "metadata": {},
   "outputs": [],
   "source": [
    "pmids_ = []\n",
    "titles_ = []\n",
    "abstracts_ = []\n",
    "\n",
    "for i, record in enumerate(soup.find_all('PubmedArticle')):\n",
    "    try:\n",
    "        pmid = record.MedlineCitation.PMID.text\n",
    "    except AttributeError:\n",
    "        pmid = None\n",
    "    try:\n",
    "        title = record.MedlineCitation.Article.ArticleTitle.text\n",
    "    except AttributeError:\n",
    "        title = ''\n",
    "    try:\n",
    "        abstract = record.MedlineCitation.Article.Abstract.text\n",
    "    except AttributeError:\n",
    "        abstract = ''\n",
    "    pmids_.append(pmid)\n",
    "    titles_.append(title)\n",
    "    abstracts_.append(abstract)"
   ]
  },
  {
   "cell_type": "code",
   "execution_count": 46,
   "metadata": {},
   "outputs": [],
   "source": [
    "from gensim.utils import simple_preprocess\n",
    "from gensim.models.phrases import Phrases, Phraser"
   ]
  },
  {
   "cell_type": "code",
   "execution_count": 47,
   "metadata": {},
   "outputs": [],
   "source": [
    "from metamap_fetch import metamap_fetch\n",
    "from metamap_words import metamap_matched_words"
   ]
  },
  {
   "cell_type": "code",
   "execution_count": 48,
   "metadata": {
    "scrolled": true
   },
   "outputs": [
    {
     "name": "stdout",
     "output_type": "stream",
     "text": [
      "0\n",
      "10\n",
      "20\n",
      "30\n"
     ]
    }
   ],
   "source": [
    "disease_dictionary = []\n",
    "metamap_json_list = []\n",
    "for i, (title, abstract) in enumerate(zip(titles_, abstracts_)):\n",
    "    mm_json = metamap_fetch(title + ' ' + abstract)\n",
    "    metamap_json_list.append(mm_json)\n",
    "    disease_dictionary.append(metamap_matched_words(mm_json))\n",
    "    if i % 10 == 0:\n",
    "        print(i)"
   ]
  },
  {
   "cell_type": "code",
   "execution_count": 49,
   "metadata": {},
   "outputs": [],
   "source": [
    "import string, json\n",
    "\n",
    "def metamap_matched_words_local(output):\n",
    "    translator = str.maketrans(string.punctuation, ' ' * len(string.punctuation))\n",
    "    \n",
    "    words_list = []\n",
    "    \n",
    "    try:\n",
    "        mm_op_json = json.loads(output)\n",
    "    except ValueError:\n",
    "        return text\n",
    "\n",
    "    for doc in mm_op_json[\"AllDocuments\"]:\n",
    "        for utts_num, utts in enumerate(doc[\"Document\"][\"Utterances\"]):\n",
    "            for phr_num, phr in enumerate(utts[\"Phrases\"]):\n",
    "                if phr[\"Mappings\"]:\n",
    "                    for mappings in phr[\"Mappings\"]:\n",
    "                        for mapping in mappings[\"MappingCandidates\"]:\n",
    "                            '''\n",
    "                            words = []\n",
    "                            for word in mapping[\"CandidatePreferred\"].lower().translate(translator).split():\n",
    "                                if len(word) > 2:\n",
    "                                    words.append(word)\n",
    "                            words_list.append('_'.join(words))\n",
    "                            '''\n",
    "                            for word in mapping[\"CandidatePreferred\"].lower().translate(translator).split():\n",
    "                                if len(word) > 2:\n",
    "                                    words_list.append(word.lower().translate(translator))\n",
    "                            \n",
    "    return words_list\n",
    "\n",
    "disease_dictionary = []\n",
    "\n",
    "for mm_json in metamap_json_list:\n",
    "    disease_dictionary.append(metamap_matched_words_local(mm_json))"
   ]
  },
  {
   "cell_type": "code",
   "execution_count": 50,
   "metadata": {},
   "outputs": [],
   "source": [
    "from gensim.models import TfidfModel\n",
    "from gensim.corpora import Dictionary"
   ]
  },
  {
   "cell_type": "code",
   "execution_count": 51,
   "metadata": {},
   "outputs": [],
   "source": [
    "dct = Dictionary(disease_dictionary)\n",
    "\n",
    "dct.filter_extremes(no_below=3, no_above=1.0)\n",
    "\n",
    "dct.compactify()"
   ]
  },
  {
   "cell_type": "code",
   "execution_count": 52,
   "metadata": {},
   "outputs": [],
   "source": [
    "corpus = [dct.doc2bow(line) for line in disease_dictionary]\n",
    "\n",
    "model = TfidfModel(corpus)"
   ]
  },
  {
   "cell_type": "code",
   "execution_count": 53,
   "metadata": {},
   "outputs": [
    {
     "data": {
      "text/plain": [
       "36"
      ]
     },
     "execution_count": 53,
     "metadata": {},
     "output_type": "execute_result"
    }
   ],
   "source": [
    "len(dct)"
   ]
  },
  {
   "cell_type": "code",
   "execution_count": 54,
   "metadata": {},
   "outputs": [],
   "source": [
    "import numpy as np"
   ]
  },
  {
   "cell_type": "code",
   "execution_count": 55,
   "metadata": {},
   "outputs": [],
   "source": [
    "document_matrix = np.zeros((len(disease_dictionary), len(dct)))"
   ]
  },
  {
   "cell_type": "code",
   "execution_count": 56,
   "metadata": {},
   "outputs": [],
   "source": [
    "for i, disease_words in enumerate(corpus):\n",
    "    disease_tfidf = model[disease_words]\n",
    "    for (dct_id, score) in disease_tfidf:\n",
    "        document_matrix[i][dct_id] = score"
   ]
  },
  {
   "cell_type": "code",
   "execution_count": 57,
   "metadata": {},
   "outputs": [],
   "source": [
    "from sklearn.cluster import AffinityPropagation"
   ]
  },
  {
   "cell_type": "code",
   "execution_count": 58,
   "metadata": {},
   "outputs": [],
   "source": [
    "kmeans = AffinityPropagation(damping=0.51, max_iter=500).fit(document_matrix)"
   ]
  },
  {
   "cell_type": "code",
   "execution_count": 59,
   "metadata": {},
   "outputs": [
    {
     "data": {
      "text/plain": [
       "array([3, 0, 1, 0, 1, 0, 0, 3, 2, 2, 3, 7, 3, 2, 3, 7, 4, 4, 2, 7, 7, 3,\n",
       "       3, 7, 7, 7, 0, 6, 5, 6, 1, 2, 7, 7, 4, 4])"
      ]
     },
     "execution_count": 59,
     "metadata": {},
     "output_type": "execute_result"
    }
   ],
   "source": [
    "kmeans.labels_"
   ]
  },
  {
   "cell_type": "code",
   "execution_count": 60,
   "metadata": {
    "scrolled": false
   },
   "outputs": [
    {
     "name": "stdout",
     "output_type": "stream",
     "text": [
      "----------\n",
      "['motor', 'neuron', 'disease', 'cardiac', 'arrest', 'disease', 'malignant', 'neoplasms', 'primary', 'malignant', 'neoplasm', 'metabolic', 'diseases', 'nervous', 'system', 'disorder', 'nervous', 'system', 'disorder', 'alzheimer', 'disease', 'amyotrophic', 'lateral', 'sclerosis', 'spinal', 'muscular', 'atrophy', 'motor', 'neuron', 'disease', 'disease', 'spinal', 'muscular', 'atrophy', 'amyotrophic', 'lateral', 'sclerosis']\n",
      "['motor', 'neuron', 'disease', 'disease', 'heredodegenerative', 'disorders', 'nervous', 'system', 'pure', 'hereditary', 'spastic', 'paraplegia', 'spinal', 'muscular', 'atrophy', 'amyotrophic', 'lateral', 'sclerosis', 'motor', 'neuron', 'disease', 'lower', 'allogenic', 'disease', 'spinal', 'muscular', 'atrophy', 'motor', 'neuron', 'disease', 'upper', 'motor', 'neuron', 'disease', 'upper']\n",
      "['motor', 'neuron', 'disease', 'disease', 'malnutrition', 'neurodegenerative', 'disorders', 'spinal', 'muscular', 'atrophy', 'neuro', 'degenerative', 'disease', 'spinal', 'muscular', 'atrophy', 'motor', 'neuron', 'disease']\n",
      "['hmn', 'hereditary', 'motor', 'neuropathy', 'proximal', 'type', 'hmn', 'hereditary', 'motor', 'neuropathy', 'proximal', 'type', 'hmn', 'hereditary', 'motor', 'neuropathy', 'proximal', 'type', 'hmn', 'hereditary', 'motor', 'neuropathy', 'proximal', 'type', 'muscular', 'atrophy', 'spinal', 'type', 'neuromuscular', 'diseases', 'motor', 'disorders', 'hmn', 'hereditary', 'motor', 'neuropathy', 'proximal', 'type']\n",
      "['disease']\n",
      "----------\n",
      "['spinal', 'muscular', 'atrophy', 'spinal', 'muscular', 'atrophy', 'autosomal', 'recessive', 'hereditary', 'disorder', 'spinal', 'muscular', 'atrophy', 'spinal', 'muscular', 'atrophy', 'spinal', 'muscular', 'atrophy', 'spinal', 'muscular', 'atrophy']\n",
      "['hereditary', 'diseases', 'disease', 'hereditary', 'diseases', 'spinal', 'muscular', 'atrophy', 'rett', 'syndrome', 'sotos', 'syndrome']\n",
      "['rare', 'diseases', 'premature', 'aging', 'syndrome']\n",
      "----------\n",
      "['short', 'rib', 'polydactyly', 'syndrome', 'syndrome', 'short', 'rib', 'polydactyly', 'syndrome', 'syndrome', 'short', 'rib', 'polydactyly', 'syndrome', 'disorder', 'skeletal', 'system', 'disease', 'disease']\n",
      "['short', 'rib', 'polydactyly', 'syndrome']\n",
      "['short', 'rib', 'polydactyly', 'syndrome', 'short', 'rib', 'polydactyly', 'syndrome', 'disorder', 'skeletal', 'system', 'syndrome', 'syndrome', 'syndrome', 'syndrome']\n",
      "['short', 'rib', 'polydactyly', 'syndrome', 'disease', 'disease', 'short', 'rib', 'polydactyly', 'syndrome', 'perinatal', 'disorder', 'disease', 'decompression', 'sickness']\n",
      "['cartilage', 'diseases', 'osteochondrodysplasias', 'skeletal', 'dysplasia', 'hereditary', 'diseases', 'coffin', 'siris', 'syndrome', 'coffin', 'siris', 'syndrome', 'short', 'rib', 'polydactyly', 'syndrome']\n",
      "----------\n",
      "['colorectal', 'carcinoma', 'colorectal', 'cancer', 'malignant', 'neoplasms', 'primary', 'malignant', 'neoplasm', 'colorectal', 'carcinoma', 'colorectal', 'cancer', 'colorectal', 'carcinoma', 'colorectal', 'cancer', 'colorectal', 'carcinoma', 'colorectal', 'cancer', 'hereditary', 'malignant', 'neoplasm', 'multiple', 'polyps', 'hereditary', 'nonpolyposis', 'colorectal', 'cancer', 'colorectal', 'carcinoma', 'colorectal', 'cancer', 'colorectal', 'carcinoma', 'colorectal', 'cancer', 'malignant', 'neoplasms', 'primary', 'malignant', 'neoplasm', 'hereditary', 'malignant', 'neoplasm', 'multiple', 'polyps', 'malignant', 'neoplasms', 'primary', 'malignant', 'neoplasm', 'multiple', 'polyps', 'malignant', 'tumor', 'colon', 'multiple', 'polyps', 'colon', 'carcinoma', 'hereditary', 'malignant', 'neoplasm', 'multiple', 'polyps']\n",
      "['hereditary', 'nonpolyposis', 'colorectal', 'cancer', 'syndrome', 'hereditary', 'nonpolyposis', 'colorectal', 'cancer', 'hereditary', 'diseases', 'hereditary', 'nonpolyposis', 'colorectal', 'cancer', 'cancer', 'urinary', 'tract', 'carcinoma', 'transitional', 'cell', 'urothelial', 'carcinoma', 'hereditary', 'nonpolyposis', 'colorectal', 'cancer', 'hereditary', 'nonpolyposis', 'colorectal', 'cancer', 'hereditary', 'nonpolyposis', 'colorectal', 'cancer', 'carcinoma', 'transitional', 'cell', 'urothelial', 'carcinoma', 'hereditary', 'nonpolyposis', 'colorectal', 'cancer', 'hereditary', 'nonpolyposis', 'colorectal', 'cancer', 'carcinoma', 'transitional', 'cell', 'urothelial', 'carcinoma', 'hereditary', 'nonpolyposis', 'colorectal', 'cancer', 'cancer', 'urinary', 'tract', 'hereditary', 'nonpolyposis', 'colorectal', 'cancer', 'autosomal', 'dominant', 'hereditary', 'disorder', 'carcinoma', 'transitional', 'cell', 'urothelial', 'carcinoma', 'hereditary', 'nonpolyposis', 'colorectal', 'cancer', 'hereditary', 'nonpolyposis', 'colorectal', 'cancer', 'hereditary', 'nonpolyposis', 'colorectal', 'cancer', 'carcinoma', 'transitional', 'cell', 'urothelial', 'carcinoma', 'hereditary', 'nonpolyposis', 'colorectal', 'cancer', 'carcinoma', 'transitional', 'cell', 'urothelial', 'carcinoma', 'carcinoma', 'transitional', 'cell', 'urothelial', 'carcinoma', 'hereditary', 'nonpolyposis', 'colorectal', 'cancer', 'carcinoma', 'transitional', 'cell', 'urothelial', 'carcinoma', 'malignant', 'neoplasm', 'ureter', 'syndrome', 'hereditary', 'diseases', 'carcinoma', 'transitional', 'cell', 'urothelial', 'carcinoma', 'cancer', 'urinary', 'tract', 'carcinoma', 'transitional', 'cell', 'urothelial', 'carcinoma', 'carcinoma', 'transitional', 'cell', 'urothelial', 'carcinoma']\n",
      "['hereditary', 'nonpolyposis', 'colorectal', 'cancer', 'hereditary', 'nonpolyposis', 'colorectal', 'cancer', 'malignant', 'tumor', 'colon', 'multiple', 'polyps', 'colorectal', 'carcinoma', 'multiple', 'polyps', 'colorectal', 'cancer', 'multiple', 'polyps', 'hereditary', 'nonpolyposis', 'colorectal', 'cancer', 'hereditary', 'nonpolyposis', 'colorectal', 'cancer', 'hereditary', 'nonpolyposis', 'colorectal', 'cancer', 'disease', 'colorectal', 'carcinoma', 'colorectal', 'cancer', 'hereditary', 'malignant', 'neoplasm', 'disease', 'disease', 'disease', 'hereditary', 'nonpolyposis', 'colorectal', 'cancer', 'syndrome', 'turcot', 'syndrome', 'disorder', 'colorectal', 'carcinoma', 'colorectal', 'cancer', 'disease', 'colorectal', 'carcinoma', 'colorectal', 'cancer', 'hereditary', 'malignant', 'neoplasm', 'multiple', 'polyps', 'familial', 'colorectal', 'cancer', 'type', 'hereditary', 'diseases', 'hereditary', 'nonpolyposis', 'colorectal', 'cancer', 'disease', 'neoplasms']\n",
      "['turcot', 'syndrome', 'disorder', 'turcot', 'syndrome', 'disorder', 'syndrome', 'autosomal', 'hereditary', 'disorder', 'autosomal', 'dominant', 'disorder', 'malignant', 'neoplasms', 'endometrial', 'neoplasms', 'turcot', 'syndrome', 'disorder', 'hereditary', 'nonpolyposis', 'colorectal', 'cancer', 'hereditary', 'nonpolyposis', 'colorectal', 'cancer', 'genetic', 'syndrome', 'turcot', 'syndrome', 'disorder', 'hereditary', 'nonpolyposis', 'colorectal', 'cancer']\n",
      "['neoplasms', 'hereditary', 'nonpolyposis', 'colorectal', 'cancer', 'hereditary', 'nonpolyposis', 'colorectal', 'cancer', 'colorectal', 'carcinoma', 'colorectal', 'cancer', 'hereditary', 'malignant', 'neoplasm', 'hereditary', 'nonpolyposis', 'colorectal', 'cancer', 'colorectal', 'carcinoma', 'colorectal', 'cancer', 'malignant', 'neoplasm', 'endometrium', 'endometrial', 'carcinoma', 'uterine', 'corpus', 'cancer', 'malignant', 'neoplasms', 'primary', 'malignant', 'neoplasm', 'colorectal', 'carcinoma', 'colorectal', 'cancer', 'hereditary', 'nonpolyposis', 'colorectal', 'cancer', 'hereditary', 'nonpolyposis', 'colorectal', 'cancer']\n",
      "['hereditary', 'nonpolyposis', 'colorectal', 'cancer', 'hereditary', 'nonpolyposis', 'colorectal', 'cancer', 'hereditary', 'nonpolyposis', 'colorectal', 'cancer', 'syndrome', 'malignant', 'neoplasms', 'syndrome', 'primary', 'malignant', 'neoplasm', 'syndrome', 'malignant', 'neoplasm', 'endometrium', 'endometrial', 'carcinoma', 'hereditary', 'nonpolyposis', 'colorectal', 'cancer', 'colorectal', 'carcinoma', 'colorectal', 'cancer', 'neoplastic', 'syndromes', 'hereditary', 'hereditary', 'nonpolyposis', 'colorectal', 'cancer', 'hereditary', 'nonpolyposis', 'colorectal', 'cancer', 'hereditary', 'nonpolyposis', 'colorectal', 'cancer', 'hereditary', 'nonpolyposis', 'colorectal', 'cancer', 'hereditary', 'nonpolyposis', 'colorectal', 'cancer', 'peroxisome', 'biogenesis', 'disorder', 'complementation', 'group']\n",
      "['colorectal', 'carcinoma', 'carcinoma', 'colorectal', 'cancer', 'carcinoma', 'colorectal', 'carcinoma', 'malignant', 'neoplasms', 'colorectal', 'carcinoma', 'primary', 'malignant', 'neoplasm', 'colorectal', 'cancer', 'malignant', 'neoplasms', 'primary', 'malignant', 'neoplasm', 'hereditary', 'nonpolyposis', 'colorectal', 'cancer', 'hereditary', 'nonpolyposis', 'colorectal', 'cancer', 'syndrome', 'hereditary', 'nonpolyposis', 'colorectal', 'cancer', 'neoplastic', 'syndromes', 'hereditary', 'colorectal', 'cancer', 'colorectal', 'cancer', 'colorectal', 'cancer', 'neoplasms', 'colorectal', 'cancer']\n",
      "----------\n",
      "['malignant', 'neoplasm', 'lung', 'carcinoma', 'lung', 'primary', 'malignant', 'neoplasm', 'lung', 'tumor', 'progression', 'malignant', 'neoplasms', 'primary', 'malignant', 'neoplasm', 'small', 'cell', 'carcinoma', 'lung', 'non', 'small', 'cell', 'lung', 'carcinoma', 'adenocarcinoma', 'lung', 'disorder', 'non', 'small', 'cell', 'lung', 'carcinoma', 'non', 'small', 'cell', 'lung', 'carcinoma', 'neoplasm', 'relapse', 'malignant', 'neoplasm', 'lung', 'carcinoma', 'lung', 'primary', 'malignant', 'neoplasm', 'lung', 'malignant', 'neoplasms', 'primary', 'malignant', 'neoplasm', 'malignant', 'neoplasm', 'lung', 'carcinoma', 'lung', 'primary', 'malignant', 'neoplasm', 'lung', 'malignant', 'neoplasm', 'lung', 'carcinoma', 'lung', 'primary', 'malignant', 'neoplasm', 'lung', 'malignant', 'neoplasms', 'primary', 'malignant', 'neoplasm', 'malignant', 'neoplasms', 'primary', 'malignant', 'neoplasm', 'malignant', 'neoplasms', 'primary', 'malignant', 'neoplasm', 'non', 'small', 'cell', 'lung', 'carcinoma', 'malignant', 'neoplasm', 'lung', 'carcinoma', 'lung', 'primary', 'malignant', 'neoplasm', 'lung']\n",
      "['malignant', 'neoplasm', 'lung', 'carcinoma', 'lung', 'primary', 'malignant', 'neoplasm', 'lung', 'malignant', 'neoplasms', 'primary', 'malignant', 'neoplasm', 'neoplasm', 'metastasis', 'malignant', 'neoplasm', 'lung', 'carcinoma', 'lung', 'primary', 'malignant', 'neoplasm', 'lung', 'malignant', 'neoplasm', 'lung', 'carcinoma', 'lung', 'primary', 'malignant', 'neoplasm', 'lung', 'malignant', 'neoplasm', 'lung', 'carcinoma', 'lung', 'primary', 'malignant', 'neoplasm', 'lung', 'respiration', 'disorders', 'respiratory', 'tract', 'diseases', 'malignant', 'neoplasm', 'lung', 'carcinoma', 'lung', 'primary', 'malignant', 'neoplasm', 'lung', 'malignant', 'neoplasm', 'lung', 'carcinoma', 'lung', 'primary', 'malignant', 'neoplasm', 'lung']\n",
      "['malignant', 'neoplasm', 'breast', 'breast', 'carcinoma', 'mammary', 'neoplasms', 'neoplasms', 'secondary', 'malignant', 'neoplasm', 'lung', 'neoplasms', 'neoplasm', 'metastasis', 'secondary', 'neoplasm', 'metastatic', 'neoplasm']\n",
      "['non', 'small', 'cell', 'lung', 'carcinoma', 'non', 'small', 'cell', 'lung', 'carcinoma', 'non', 'small', 'cell', 'lung', 'carcinoma', 'non', 'small', 'cell', 'lung', 'carcinoma', 'secondary', 'malignant', 'neoplasm', 'nervous', 'system', 'non', 'small', 'cell', 'lung', 'carcinoma']\n",
      "----------\n",
      "['multiple', 'pathologies', 'cardiac', 'defects']\n",
      "----------\n",
      "['syndrome']\n",
      "['syndrome']\n",
      "----------\n",
      "['neoplasms', 'adenocarcinoma', 'lung', 'disorder', 'adenocarcinoma', 'adenocarcinoma', 'lung', 'disorder', 'amelogenesis', 'imperfecta', 'nephrocalcinosis', 'adenocarcinoma', 'lung', 'disorder', 'lung', 'neoplasms', 'adenocarcinoma', 'lung', 'disorder', 'adenocarcinoma', 'adenocarcinoma', 'situ', 'adenocarcinoma', 'adenocarcinoma', 'neoplasms']\n",
      "['squamous', 'cell', 'carcinoma', 'lung', 'adenocarcinoma', 'lung', 'disorder', 'malignant', 'neoplasms', 'primary', 'malignant', 'neoplasm', 'squamous', 'cell', 'carcinoma', 'lung', 'adenocarcinoma', 'lung', 'disorder', 'squamous', 'cell', 'carcinoma', 'lung', 'adenocarcinoma', 'lung', 'disorder', 'squamous', 'cell', 'carcinoma', 'lung', 'adenocarcinoma', 'lung', 'disorder', 'adenocarcinoma', 'lung', 'disorder', 'adenocarcinoma', 'lung', 'disorder', 'squamous', 'cell', 'carcinoma', 'lung', 'adenocarcinoma', 'lung', 'disorder', 'squamous', 'cell', 'carcinoma', 'lung', 'adenocarcinoma', 'lung', 'disorder', 'squamous', 'cell', 'carcinoma', 'lung', 'adenocarcinoma', 'lung', 'disorder', 'squamous', 'cell', 'carcinoma', 'lung', 'adenocarcinoma', 'lung', 'disorder', 'squamous', 'cell', 'carcinoma', 'lung', 'adenocarcinoma', 'lung', 'disorder', 'squamous', 'cell', 'carcinoma', 'lung', 'adenocarcinoma', 'lung', 'disorder', 'adenocarcinoma', 'squamous', 'cell', 'carcinoma', 'lung', 'adenocarcinoma', 'lung', 'disorder', 'malignant', 'neoplasm', 'lung', 'carcinoma', 'lung', 'primary', 'malignant', 'neoplasm', 'lung']\n",
      "['adenocarcinoma', 'lung', 'disorder', 'carcinoma', 'malignant', 'neoplasms', 'primary', 'malignant', 'neoplasm', 'renal', 'cell', 'carcinoma', 'colorectal', 'carcinoma', 'colorectal', 'cancer', 'adenocarcinoma', 'lung', 'disorder', 'adenocarcinoma', 'lung', 'disorder', 'neoplasms', 'adenocarcinoma', 'lung', 'disorder', 'adenocarcinoma', 'lung', 'disorder', 'adenocarcinoma', 'lung', 'disorder', 'developmental', 'regression', 'adenocarcinoma', 'lung', 'disorder', 'adenocarcinoma', 'lung', 'disorder']\n",
      "['secondary', 'malignant', 'neoplasm', 'lymph', 'node', 'adenocarcinoma', 'lung', 'disorder', 'adenocarcinoma', 'lung', 'disorder', 'adenocarcinoma', 'lung', 'disorder', 'adenocarcinoma', 'lung', 'disorder', 'secondary', 'malignant', 'neoplasm', 'lymph', 'node', 'adenocarcinoma', 'lung', 'disorder', 'adenocarcinoma', 'lung', 'disorder', 'secondary', 'malignant', 'neoplasm', 'lymph', 'node', 'adenocarcinoma', 'lung', 'disorder', 'adenocarcinoma', 'lung', 'disorder']\n",
      "['adenocarcinoma', 'lung', 'disorder', 'neoplasms', 'non', 'small', 'cell', 'lung', 'carcinoma', 'adenocarcinoma', 'lung', 'disorder', 'disease', 'adenocarcinoma', 'lung', 'disorder', 'malignant', 'neoplasm', 'lung', 'carcinoma', 'lung', 'adenocarcinoma', 'lung', 'disorder', 'adenocarcinoma', 'lung', 'disorder', 'disease']\n",
      "['adenocarcinoma', 'lung', 'stage', 'adenocarcinoma', 'lung', 'stage', 'malignant', 'neoplasm', 'lung', 'carcinoma', 'lung', 'amelogenesis', 'imperfecta', 'nephrocalcinosis', 'adenocarcinoma', 'lung', 'disorder', 'adenocarcinoma', 'lung', 'stage', 'amelogenesis', 'imperfecta', 'nephrocalcinosis', 'adenocarcinoma', 'situ', 'adenocarcinoma', 'adenocarcinoma', 'solid', 'tumor', 'disease', 'primary', 'tumor', 'adenocarcinoma', 'lung', 'stage', 'malignant', 'neoplasm', 'thorax']\n",
      "['adenocarcinoma', 'lung', 'disorder', 'malignant', 'neoplasm', 'lung', 'carcinoma', 'lung', 'primary', 'malignant', 'neoplasm', 'lung', 'adenocarcinoma', 'lung', 'disorder', 'malignant', 'neoplasm', 'lung', 'carcinoma', 'lung', 'primary', 'malignant', 'neoplasm', 'lung', 'malignant', 'neoplasms', 'malignant', 'neoplasms', 'malignant', 'neoplasms', 'primary', 'malignant', 'neoplasm', 'malignant', 'neoplasms', 'malignant', 'neoplasm', 'lung', 'carcinoma', 'lung', 'primary', 'malignant', 'neoplasm', 'lung', 'adenocarcinoma', 'lung', 'disorder', 'adenocarcinoma', 'lung', 'disorder', 'adenocarcinoma', 'lung', 'disorder']\n",
      "['adenocarcinoma', 'lung', 'disorder', 'squamous', 'cell', 'carcinoma', 'squamous', 'cell', 'carcinoma', 'category', 'adenocarcinoma', 'lung', 'disorder', 'malignant', 'neoplasms', 'primary', 'malignant', 'neoplasm', 'adenocarcinoma', 'lung', 'disorder', 'squamous', 'cell', 'carcinoma', 'lung', 'adenocarcinoma', 'lung', 'disorder', 'adenocarcinoma', 'lung', 'disorder']\n",
      "['adenocarcinoma', 'lung', 'disorder', 'second', 'primary', 'cancers', 'malignant', 'neoplasm', 'lung', 'carcinoma', 'lung', 'primary', 'malignant', 'neoplasm', 'lung', 'malignant', 'neoplasm', 'lung', 'carcinoma', 'lung', 'primary', 'malignant', 'neoplasm', 'lung', 'adenocarcinoma', 'lung', 'disorder', 'adenocarcinoma', 'lung', 'disorder', 'adenocarcinoma', 'lung', 'disorder', 'adenocarcinoma', 'lung', 'disorder', 'squamous', 'cell', 'carcinoma', 'lung', 'small', 'cell', 'carcinoma', 'lung', 'adenocarcinoma', 'lung', 'disorder', 'adenocarcinoma', 'lung', 'disorder', 'polyarteritis', 'nodosa', 'childhood', 'onset', 'adenocarcinoma', 'lung', 'disorder', 'malignant', 'neoplasms', 'adenocarcinoma', 'lung', 'disorder', 'primary', 'malignant', 'neoplasm', 'adenocarcinoma', 'malignant', 'neoplasm', 'lung', 'adenocarcinoma', 'carcinoma', 'lung', 'adenocarcinoma', 'lung', 'disorder', 'polyarteritis', 'nodosa', 'childhood', 'onset', 'malignant', 'neoplasms', 'adenocarcinoma', 'lung', 'disorder', 'polyarteritis', 'nodosa', 'childhood', 'onset', 'primary', 'malignant', 'neoplasm', 'adenocarcinoma', 'polyarteritis', 'nodosa', 'childhood', 'onset', 'malignant', 'neoplasm', 'lung', 'adenocarcinoma', 'polyarteritis', 'nodosa', 'childhood', 'onset', 'carcinoma', 'lung', 'adenocarcinoma', 'lung', 'disorder', 'adenocarcinoma', 'lung', 'disorder']\n",
      "----------\n",
      "----------\n",
      "----------\n",
      "----------\n",
      "----------\n",
      "----------\n",
      "----------\n"
     ]
    }
   ],
   "source": [
    "for j in range(0, 15):\n",
    "    print('----------')\n",
    "    for i, label in enumerate(kmeans.labels_ == j):\n",
    "        if label:\n",
    "            print(disease_dictionary[i])"
   ]
  },
  {
   "cell_type": "code",
   "execution_count": 61,
   "metadata": {},
   "outputs": [],
   "source": [
    "import tempfile"
   ]
  },
  {
   "cell_type": "code",
   "execution_count": 62,
   "metadata": {},
   "outputs": [],
   "source": [
    "in_file = tempfile.NamedTemporaryFile(mode=\"wb\", delete=False)"
   ]
  },
  {
   "cell_type": "code",
   "execution_count": 63,
   "metadata": {},
   "outputs": [
    {
     "data": {
      "text/plain": [
       "'/var/folders/jn/v5lkcznn19n7fcj98z5jrll00000gn/T/tmp461koggh'"
      ]
     },
     "execution_count": 63,
     "metadata": {},
     "output_type": "execute_result"
    }
   ],
   "source": [
    "in_file.name"
   ]
  },
  {
   "cell_type": "code",
   "execution_count": 64,
   "metadata": {},
   "outputs": [
    {
     "data": {
      "text/plain": [
       "False"
      ]
     },
     "execution_count": 64,
     "metadata": {},
     "output_type": "execute_result"
    }
   ],
   "source": [
    "in_file.delete"
   ]
  },
  {
   "cell_type": "code",
   "execution_count": 65,
   "metadata": {},
   "outputs": [],
   "source": [
    "in_file.close()"
   ]
  },
  {
   "cell_type": "code",
   "execution_count": 69,
   "metadata": {},
   "outputs": [
    {
     "data": {
      "text/plain": [
       "False"
      ]
     },
     "execution_count": 69,
     "metadata": {},
     "output_type": "execute_result"
    }
   ],
   "source": [
    "os.path.exists(in_file.name)"
   ]
  },
  {
   "cell_type": "code",
   "execution_count": 68,
   "metadata": {},
   "outputs": [],
   "source": [
    "os.remove(in_file.name)"
   ]
  },
  {
   "cell_type": "code",
   "execution_count": null,
   "metadata": {},
   "outputs": [],
   "source": []
  }
 ],
 "metadata": {
  "kernelspec": {
   "display_name": "Python 3",
   "language": "python",
   "name": "python3"
  },
  "language_info": {
   "codemirror_mode": {
    "name": "ipython",
    "version": 3
   },
   "file_extension": ".py",
   "mimetype": "text/x-python",
   "name": "python",
   "nbconvert_exporter": "python",
   "pygments_lexer": "ipython3",
   "version": "3.6.6"
  }
 },
 "nbformat": 4,
 "nbformat_minor": 2
}
