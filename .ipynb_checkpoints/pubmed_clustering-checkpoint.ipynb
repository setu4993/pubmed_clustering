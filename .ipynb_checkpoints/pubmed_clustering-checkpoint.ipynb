{
 "cells": [
  {
   "cell_type": "code",
   "execution_count": 1,
   "metadata": {},
   "outputs": [],
   "source": [
    "import Bio\n",
    "import os"
   ]
  },
  {
   "cell_type": "code",
   "execution_count": 2,
   "metadata": {},
   "outputs": [],
   "source": [
    "from Bio import Entrez\n",
    "from bs4 import BeautifulSoup"
   ]
  },
  {
   "cell_type": "code",
   "execution_count": 3,
   "metadata": {
    "scrolled": true
   },
   "outputs": [],
   "source": [
    "def fetch_pubmed_abstracts(pmids):\n",
    "    Entrez.email = \"Your.Name.Here@example.org\"\n",
    "    handle = Entrez.efetch(db=\"pubmed\", id=pmids, rettype=\"abstract\")\n",
    "    return handle.read()"
   ]
  },
  {
   "cell_type": "code",
   "execution_count": 4,
   "metadata": {},
   "outputs": [],
   "source": [
    "data = './data'\n",
    "gold_set_unlabelled = os.path.join(data, 'pmids_gold_set_unlabeled.txt')"
   ]
  },
  {
   "cell_type": "code",
   "execution_count": 5,
   "metadata": {},
   "outputs": [],
   "source": [
    "lines = open(gold_set_unlabelled, 'r').readlines()"
   ]
  },
  {
   "cell_type": "code",
   "execution_count": 6,
   "metadata": {},
   "outputs": [],
   "source": [
    "pmids = \",\".join([line.strip() for line in lines])"
   ]
  },
  {
   "cell_type": "code",
   "execution_count": 7,
   "metadata": {},
   "outputs": [],
   "source": [
    "# pmids = '28618929'\n",
    "output = fetch_pubmed_abstracts(pmids)"
   ]
  },
  {
   "cell_type": "code",
   "execution_count": 8,
   "metadata": {},
   "outputs": [],
   "source": [
    "soup = BeautifulSoup(output, 'xml')"
   ]
  },
  {
   "cell_type": "code",
   "execution_count": 9,
   "metadata": {},
   "outputs": [],
   "source": [
    "pmids_ = []\n",
    "titles_ = []\n",
    "abstracts_ = []\n",
    "\n",
    "for i, record in enumerate(soup.find_all('PubmedArticle')):\n",
    "    try:\n",
    "        pmid = record.MedlineCitation.PMID.text\n",
    "    except AttributeError:\n",
    "        pmid = None\n",
    "    try:\n",
    "        title = record.MedlineCitation.Article.ArticleTitle.text\n",
    "    except AttributeError:\n",
    "        title = ''\n",
    "    try:\n",
    "        abstract = record.MedlineCitation.Article.Abstract.AbstractText.text\n",
    "    except AttributeError:\n",
    "        abstract = ''\n",
    "    pmids_.append(pmid)\n",
    "    titles_.append(title)\n",
    "    abstracts_.append(abstract)"
   ]
  },
  {
   "cell_type": "code",
   "execution_count": null,
   "metadata": {},
   "outputs": [],
   "source": [
    "from gensim.utils import simple_preprocess\n",
    "from gensim.models.phrases import Phrases, Phraser"
   ]
  },
  {
   "cell_type": "code",
   "execution_count": 10,
   "metadata": {},
   "outputs": [],
   "source": [
    "from metamap_fetch import metamap_fetch\n",
    "from metamap_words import metamap_matched_words"
   ]
  },
  {
   "cell_type": "code",
   "execution_count": null,
   "metadata": {
    "scrolled": true
   },
   "outputs": [
    {
     "name": "stdout",
     "output_type": "stream",
     "text": [
      "0\n",
      "1\n",
      "2\n"
     ]
    }
   ],
   "source": [
    "disease_dictionary = []\n",
    "\n",
    "for i, (title, abstract) in enumerate(zip(titles_, abstracts_)):\n",
    "    mm_json = metamap_fetch(title + ' ' + abstract)\n",
    "    disease_dictionary.append(metamap_matched_words(mm_json))\n",
    "    print(i)\n",
    "    if i == 5:\n",
    "        break"
   ]
  },
  {
   "cell_type": "code",
   "execution_count": null,
   "metadata": {},
   "outputs": [],
   "source": []
  },
  {
   "cell_type": "code",
   "execution_count": 13,
   "metadata": {},
   "outputs": [],
   "source": [
    "from gensim.models import TfidfModel\n",
    "from gensim.corpora import Dictionary"
   ]
  },
  {
   "cell_type": "code",
   "execution_count": 14,
   "metadata": {},
   "outputs": [],
   "source": [
    "dct = Dictionary(disease_dictionary)\n",
    "\n",
    "corpus = [dct.doc2bow(line) for line in disease_dictionary]\n",
    "\n",
    "model = TfidfModel(corpus)"
   ]
  },
  {
   "cell_type": "code",
   "execution_count": 15,
   "metadata": {},
   "outputs": [
    {
     "data": {
      "text/plain": [
       "156"
      ]
     },
     "execution_count": 15,
     "metadata": {},
     "output_type": "execute_result"
    }
   ],
   "source": [
    "len(dct)"
   ]
  },
  {
   "cell_type": "code",
   "execution_count": 16,
   "metadata": {},
   "outputs": [],
   "source": [
    "import numpy as np"
   ]
  },
  {
   "cell_type": "code",
   "execution_count": 17,
   "metadata": {},
   "outputs": [],
   "source": [
    "document_matrix = np.zeros((len(disease_dictionary), len(dct)))"
   ]
  },
  {
   "cell_type": "code",
   "execution_count": 18,
   "metadata": {},
   "outputs": [],
   "source": [
    "for i, disease_words in enumerate(corpus):\n",
    "    disease_tfidf = model[disease_words]\n",
    "    for (dct_id, score) in disease_tfidf:\n",
    "        document_matrix[i][dct_id] = score"
   ]
  },
  {
   "cell_type": "code",
   "execution_count": 19,
   "metadata": {},
   "outputs": [],
   "source": [
    "from sklearn.cluster import AffinityPropagation"
   ]
  },
  {
   "cell_type": "code",
   "execution_count": 41,
   "metadata": {},
   "outputs": [],
   "source": [
    "kmeans = AffinityPropagation(damping=0.51, max_iter=500).fit(document_matrix)"
   ]
  },
  {
   "cell_type": "code",
   "execution_count": 42,
   "metadata": {},
   "outputs": [
    {
     "data": {
      "text/plain": [
       "array([1, 3, 3, 3, 3, 3, 3, 3, 3, 0, 0, 1, 0, 1, 1, 1, 1, 1, 1, 3, 3, 3,\n",
       "       3, 0, 3, 2, 3, 1, 3, 3, 3, 2, 2, 0, 2, 2, 2, 0, 2, 3, 2, 3, 2, 2,\n",
       "       3, 0, 0, 3, 2, 2, 2, 0, 2, 1, 3, 3, 2, 3, 2, 2, 3, 3, 0, 1, 3, 2,\n",
       "       2, 2, 2])"
      ]
     },
     "execution_count": 42,
     "metadata": {},
     "output_type": "execute_result"
    }
   ],
   "source": [
    "kmeans.labels_"
   ]
  },
  {
   "cell_type": "code",
   "execution_count": 43,
   "metadata": {},
   "outputs": [
    {
     "name": "stdout",
     "output_type": "stream",
     "text": [
      "['bardet', 'biedl', 'syndrome', 'bardet', 'biedl', 'syndrome', 'obesity', 'pigmentary', 'retinopathy', 'hypogonadism', 'laurence', 'moon', 'syndrome', 'retinopathy', 'syndrome', 'end', 'stage', 'renal', 'disease', 'end', 'stage', 'renal', 'disease']\n",
      "['laurence', 'moon', 'bardet', 'biedl', 'syndrome', 'syndrome', 'retinal', 'dystrophy', 'obesity', 'retinal', 'dystrophy', 'syndrome']\n",
      "['bardet', 'biedl', 'syndrome', 'autonomic', 'dysfunction', 'hypotensive', 'episode', 'end', 'stage', 'renal', 'disease', 'end', 'stage', 'renal', 'disease', 'renal', 'failure']\n",
      "['alzheimer', 'disease', 'disorders', 'alzheimer', 'disease', 'alzheimer', 'disease', 'alzheimer', 'disease']\n",
      "['dlb']\n",
      "['alzheimer', 'disease']\n",
      "['frontotemporal', 'dementia', 'frontotemporal', 'dementia', 'alzheimer', 'disease', 'alzheimer', 'disease', 'frontotemporal', 'dementia', 'frontotemporal', 'dementia', 'alzheimer', 'disease', 'frontotemporal', 'dementia', 'frontotemporal', 'dementia', 'disease', 'frontotemporal', 'dementia', 'frontotemporal', 'dementia']\n",
      "['bbs1', 'bardet', 'biedl', 'syndrome', 'bbs1', 'bbs1', 'bbs2', 'bbs4', 'bbs6', 'bbs7', 'bbs1', 'bbs1', 'bbs1', 'bbs1', 'bbs2', 'bbs6']\n",
      "['noonan', 'syndrome', 'noonan', 'syndrome', 'chiari', 'malformation', 'chiari', 'malformation', 'chiari', 'malformation', 'noonan', 'syndrome', 'noonan', 'syndrome']\n",
      "['bardet', 'biedl', 'syndrome', 'bardet', 'biedl', 'syndrome', 'bbs4', 'bbs6', 'bbs4', 'bbs4', 'bbs4', 'bbs6', 'bbs8', 'bbs4']\n",
      "['familial', 'spinal', 'neurofibromatosis', 'neurofibromatosis', 'type', 'familial', 'spinal', 'neurofibromatosis', 'neurofibromatosis', 'multiple', 'neurofibromas', 'peripheral', 'neurofibromas', 'neurofibromas', 'neurofibromas', 'neurofibromas', 'neurofibromatosis', 'type', 'neurofibromatosis', 'neurofibromatosis', 'type', 'neurofibromatosis', 'type', 'neurofibromatosis', 'neurofibromatosis', 'type', 'familial', 'spinal', 'neurofibromatosis', 'condition', 'neurofibromatosis', 'type', 'sporadic', 'disease', 'neurofibromatosis', 'type', 'neurofibromatosis']\n",
      "['giant', 'plexiform', 'neurofibroma', 'meningo', 'encephalocele', 'neurofibromatosis', 'type', 'segmental', 'neurofibromatosis', 'giant', 'plexiform', 'neurofibroma', 'neurofibromatosis', 'giant', 'plexiform', 'neurofibroma', 'giant', 'plexiform', 'neurofibroma', 'meningo', 'encephalocele']\n",
      "['cardiovascular', 'morbidity', 'bardet', 'biedl', 'syndrome', 'retinal', 'dystrophy', 'obesity', 'hypogonadism', 'renal', 'impairment', 'cardiovascular', 'disease', 'bbs1', 'bbs10', 'cardiovascular', 'risk', 'indicators', 'bbs1', 'bbs10', 'bbs10', 'bbs10', 'bbs1', 'cardiovascular', 'risk', 'factor', 'bbs1', 'cardiovascular', 'disease', 'bbs10', 'bbs1']\n",
      "['bardet', 'biedl', 'syndrome', 'bardet', 'biedl', 'syndrome', 'inherited', 'disorder', 'disease', 'bbs4', 'bbs4', 'bbs4', 'bbs4', 'bbs4', 'bardet', 'biedl', 'syndrome', 'bbs4']\n",
      "['neurofibromatosis', 'neurofibromatosis', 'segmental', 'neurofibromatosis', 'disease', 'segmental', 'neurofibromatosis', 'disease', 'disease']\n",
      "['bardet', 'biedl', 'syndrome', 'concha', 'bullosa', 'pyocele', 'bardet', 'biedl', 'syndrome', 'rare', 'disease', 'cone', 'dystrophy', 'obesity', 'hypogonadism', 'dysfunction', 'syndrome', 'mas', 'pyocele', 'concha', 'bullosa', 'pyocele', 'bardet', 'biedl', 'syndrome', 'bardet', 'biedl', 'syndrome']\n",
      "['laurence', 'moon', 'bardet', 'biedl', 'syndrome', 'laurence', 'moon', 'bardet', 'biedl', 'syndrome', 'anemia', 'rare', 'disorder', 'bardet', 'biedl', 'syndrome', 'cone', 'dystrophy', 'obesity', 'hypogonadism', 'autosomal', 'recessive', 'disorder', 'anemia']\n",
      "['bbs9', 'bardet', 'biedl', 'syndrome', 'rare', 'condition', 'postaxial', 'polydactyly', 'renal', 'dysfunction', 'genetic', 'disorder', 'bardet', 'biedl', 'syndrome']\n",
      "['noonan', 'syndrome', 'with', 'multiple', 'lentigines', 'cardio', 'cutaneous', 'syndromes', 'noonan', 'syndrome', 'with', 'multiple', 'lentigines', 'neurofibromatosis', 'type']\n",
      "['neurofibromatosis', 'type']\n",
      "['bardet', 'biedl', 'syndrome', 'autosomal', 'recessive', 'disorder']\n",
      "[]\n",
      "['epilepsy']\n",
      "[]\n",
      "['left', 'ventricular', 'noncompaction', 'cardiomyopathy', 'noonan', 'syndrome', 'noonan', 'syndrome', 'cardiomyopathy', 'noonan', 'syndrome', 'noonan', 'syndrome', 'autosomal', 'dominant', 'disorder', 'hypertrophic', 'cardiomyopathy', 'noonan', 'syndrome', 'noonan', 'syndrome', 'cardiomyopathy', 'noonan', 'syndrome', 'left', 'ventricular', 'noncompaction', 'cardiomyopathy']\n",
      "['triple', 'negative', 'breast', 'cancer', 'breast', 'cancer', 'breast', 'cancer', 'triple', 'negative', 'breast', 'cancer', 'breast', 'tumors', 'breast', 'cancer', 'tumors', 'breast', 'cancer', 'tumors', 'breast', 'tumors', 'cancer', 'breast', 'tumors', 'cancer', 'triple', 'negative', 'breast', 'cancer', 'cancer', 'mole', 'cancer', 'mole', 'mole', 'mole', 'cancer', 'mole', 'cancer', 'mole', 'cancer', 'mole', 'cancer', 'mole', 'cancer', 'mole', 'cancer']\n",
      "['metastasis', 'cancer', 'breast', 'metastasis', 'cancer', 'breast', 'metastasis', 'cancer', 'breast', 'metastasis', 'cancer', 'breast', 'metastasis', 'cancer', 'breast', 'metastasis', 'cancer', 'breast', 'cancer', 'the', 'breast', 'cancer', 'the', 'breast', 'metastasis', 'lymph', 'node', 'lymph', 'node', 'metastasis', 'metastasis', 'metastasis', 'metastasis', 'triple', 'negative', 'breast', 'cancer', 'metastases', 'metastases', 'lymph', 'node', 'metastasis', 'lymph', 'node', 'metastasis', 'triple', 'negative', 'breast', 'cancer', 'triple', 'negative', 'breast', 'cancer', 'primary', 'tumour', 'primary', 'tumour', 'lymph', 'node', 'metastasis', 'metastasis', 'metastasis', 'metastasis', 'lymph', 'node', 'metastasis', 'metastasis', 'metastasis', 'metastasis', 'triple', 'negative', 'breast', 'cancer']\n"
     ]
    }
   ],
   "source": [
    "for i, label in enumerate(kmeans.labels_ == 3):\n",
    "    if label:\n",
    "        print(disease_dictionary[i])"
   ]
  },
  {
   "cell_type": "code",
   "execution_count": null,
   "metadata": {
    "scrolled": true
   },
   "outputs": [],
   "source": [
    "gmm.predict(document_matrix)"
   ]
  },
  {
   "cell_type": "code",
   "execution_count": null,
   "metadata": {},
   "outputs": [],
   "source": [
    "for i, label in enumerate(kmeans.labels_ == 1):\n",
    "    if label:\n",
    "        print(disease_dictionary[i])"
   ]
  },
  {
   "cell_type": "code",
   "execution_count": null,
   "metadata": {},
   "outputs": [],
   "source": [
    "kmeans.get_params()"
   ]
  },
  {
   "cell_type": "code",
   "execution_count": null,
   "metadata": {},
   "outputs": [],
   "source": [
    "from sklearn.mixture import GaussianMixture\n",
    "gmm = GaussianMixture(n_components=5).fit(document_matrix)"
   ]
  },
  {
   "cell_type": "code",
   "execution_count": null,
   "metadata": {},
   "outputs": [],
   "source": [
    "from sklearn.cluster import Birch"
   ]
  },
  {
   "cell_type": "code",
   "execution_count": null,
   "metadata": {},
   "outputs": [],
   "source": [
    "brch = Birch(n_clusters=None).fit(document_matrix)\n",
    "brch.predict(document_matrix)"
   ]
  },
  {
   "cell_type": "code",
   "execution_count": null,
   "metadata": {},
   "outputs": [],
   "source": [
    "from sklearn.cluster import MeanShift\n",
    "from sklearn.mixture import BayesianGaussianMixture"
   ]
  },
  {
   "cell_type": "code",
   "execution_count": null,
   "metadata": {},
   "outputs": [],
   "source": [
    "mean_shift = MeanShift(bandwidth=20).fit(document_matrix)"
   ]
  },
  {
   "cell_type": "code",
   "execution_count": null,
   "metadata": {},
   "outputs": [],
   "source": [
    "mean_shift.predict(document_matrix)"
   ]
  },
  {
   "cell_type": "code",
   "execution_count": null,
   "metadata": {},
   "outputs": [],
   "source": [
    "bgmm = BayesianGaussianMixture(n_components=50).fit(document_matrix)"
   ]
  },
  {
   "cell_type": "code",
   "execution_count": null,
   "metadata": {},
   "outputs": [],
   "source": [
    "bgmm.predict(document_matrix)"
   ]
  },
  {
   "cell_type": "code",
   "execution_count": null,
   "metadata": {},
   "outputs": [],
   "source": []
  }
 ],
 "metadata": {
  "kernelspec": {
   "display_name": "Python 3",
   "language": "python",
   "name": "python3"
  },
  "language_info": {
   "codemirror_mode": {
    "name": "ipython",
    "version": 3
   },
   "file_extension": ".py",
   "mimetype": "text/x-python",
   "name": "python",
   "nbconvert_exporter": "python",
   "pygments_lexer": "ipython3",
   "version": "3.6.6"
  }
 },
 "nbformat": 4,
 "nbformat_minor": 2
}
